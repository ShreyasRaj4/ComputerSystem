{
  "nbformat": 4,
  "nbformat_minor": 0,
  "metadata": {
    "colab": {
      "name": "nltk_word2vec.ipynb",
      "provenance": [],
      "authorship_tag": "ABX9TyNEUvmYAH3SNiuhx2WIyHWV",
      "include_colab_link": true
    },
    "kernelspec": {
      "display_name": "Python 3",
      "name": "python3"
    }
  },
  "cells": [
    {
      "cell_type": "markdown",
      "metadata": {
        "id": "view-in-github",
        "colab_type": "text"
      },
      "source": [
        "<a href=\"https://colab.research.google.com/github/ShreyasRaj4/ComputerSystem/blob/master/nltk_word2vec.ipynb\" target=\"_parent\"><img src=\"https://colab.research.google.com/assets/colab-badge.svg\" alt=\"Open In Colab\"/></a>"
      ]
    },
    {
      "cell_type": "code",
      "metadata": {
        "colab": {
          "base_uri": "https://localhost:8080/"
        },
        "id": "ffntCE3-5S6K",
        "outputId": "360c4007-67e7-4b06-a091-827742d20fcd"
      },
      "source": [
        "import nltk\r\n",
        "nltk.download('punkt')\r\n",
        "nltk.download('stopwords')"
      ],
      "execution_count": 14,
      "outputs": [
        {
          "output_type": "stream",
          "text": [
            "[nltk_data] Downloading package punkt to /root/nltk_data...\n",
            "[nltk_data]   Package punkt is already up-to-date!\n",
            "[nltk_data] Downloading package stopwords to /root/nltk_data...\n",
            "[nltk_data]   Unzipping corpora/stopwords.zip.\n"
          ],
          "name": "stdout"
        },
        {
          "output_type": "execute_result",
          "data": {
            "text/plain": [
              "True"
            ]
          },
          "metadata": {
            "tags": []
          },
          "execution_count": 14
        }
      ]
    },
    {
      "cell_type": "code",
      "metadata": {
        "id": "-Pn1NvEl5Vpa"
      },
      "source": [
        "from gensim.models import Word2Vec\r\n",
        "from nltk.corpus import stopwords"
      ],
      "execution_count": null,
      "outputs": []
    },
    {
      "cell_type": "code",
      "metadata": {
        "id": "c2WDGtGem0bp"
      },
      "source": [
        "import re"
      ],
      "execution_count": null,
      "outputs": []
    },
    {
      "cell_type": "code",
      "metadata": {
        "id": "SZWk_EyKm2Ur"
      },
      "source": [
        "paragraph = \"\"\"I have three visions for India. In 3000 years of our history, people from all over \r\n",
        "               the world have come and invaded us, captured our lands, conquered our minds. \r\n",
        "               From Alexander onwards, the Greeks, the Turks, the Moguls, the Portuguese, the British,\r\n",
        "               the French, the Dutch, all of them came and looted us, took over what was ours. \r\n",
        "               Yet we have not done this to any other nation. We have not conquered anyone. \r\n",
        "               We have not grabbed their land, their culture, \r\n",
        "               their history and tried to enforce our way of life on them. \r\n",
        "               Why? Because we respect the freedom of others.That is why my \r\n",
        "               first vision is that of freedom. I believe that India got its first vision of \r\n",
        "               this in 1857, when we started the War of Independence. It is this freedom that\r\n",
        "               we must protect and nurture and build on. If we are not free, no one will respect us.\r\n",
        "               My second vision for India’s development. For fifty years we have been a developing nation.\r\n",
        "               It is time we see ourselves as a developed nation. We are among the top 5 nations of the world\r\n",
        "               in terms of GDP. We have a 10 percent growth rate in most areas. Our poverty levels are falling.\r\n",
        "               Our achievements are being globally recognised today. Yet we lack the self-confidence to\r\n",
        "               see ourselves as a developed nation, self-reliant and self-assured. Isn’t this incorrect?\r\n",
        "               I have a third vision. India must stand up to the world. Because I believe that unless India \r\n",
        "               stands up to the world, no one will respect us. Only strength respects strength. We must be \r\n",
        "               strong not only as a military power but also as an economic power. Both must go hand-in-hand. \r\n",
        "               My good fortune was to have worked with three great minds. Dr. Vikram Sarabhai of the Dept. of \r\n",
        "               space, Professor Satish Dhawan, who succeeded him and Dr. Brahm Prakash, father of nuclear material.\r\n",
        "               I was lucky to have worked with all three of them closely and consider this the great opportunity of my life. \r\n",
        "               I see four milestones in my career\"\"\""
      ],
      "execution_count": null,
      "outputs": []
    },
    {
      "cell_type": "code",
      "metadata": {
        "id": "dQvLFs18nFSa"
      },
      "source": [
        "# Preprocessing the data\r\n",
        "text = re.sub(r'\\[[0-9]*\\]',' ',paragraph)\r\n",
        "text = re.sub(r'\\s+',' ',text)\r\n",
        "text = text.lower()\r\n",
        "text = re.sub(r'\\d',' ',text)\r\n",
        "text = re.sub(r'\\s+',' ',text)"
      ],
      "execution_count": null,
      "outputs": []
    },
    {
      "cell_type": "code",
      "metadata": {
        "id": "XYEsZJyTnSXx"
      },
      "source": [
        "# Preparing the dataset\r\n",
        "sentences = nltk.sent_tokenize(text, language='english')\r\n",
        "sentences = [nltk.word_tokenize(sentence) for sentence in sentences]"
      ],
      "execution_count": 12,
      "outputs": []
    },
    {
      "cell_type": "code",
      "metadata": {
        "id": "DuUH6hVTnuKS"
      },
      "source": [
        "for i in range(len(sentences)):\r\n",
        "    sentences[i] = [word for word in sentences[i] if word not in stopwords.words('english')]\r\n",
        "    \r\n",
        "    \r\n",
        "# Training the Word2Vec model\r\n",
        "model = Word2Vec(sentences, min_count=1)\r\n",
        "\r\n",
        "\r\n",
        "words = model.wv.vocab\r\n",
        "\r\n",
        "# Finding Word Vectors\r\n",
        "vector = model.wv['war']\r\n",
        "\r\n",
        "# Most similar words\r\n",
        "similar = model.wv.most_similar('vikram')"
      ],
      "execution_count": 15,
      "outputs": []
    },
    {
      "cell_type": "code",
      "metadata": {
        "id": "26tT_-PrpBLU"
      },
      "source": [
        ""
      ],
      "execution_count": null,
      "outputs": []
    }
  ]
}